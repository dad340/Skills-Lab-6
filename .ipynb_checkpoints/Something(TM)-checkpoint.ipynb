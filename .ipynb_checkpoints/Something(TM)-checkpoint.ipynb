{
 "cells": [
  {
   "cell_type": "markdown",
   "id": "4f658b6c-095c-4af0-8c93-8cbb4e2ec1d8",
   "metadata": {},
   "source": [
    "# Something, TM\n",
    "\n",
    "## Directions:\n",
    "- Take in a name input\n",
    "- Take in some other input\n",
    "- Do something with the other input"
   ]
  },
  {
   "cell_type": "code",
   "execution_count": 2,
   "id": "25d4e3d8-048b-418a-a02e-82e93bd70bd2",
   "metadata": {},
   "outputs": [
    {
     "name": "stdin",
     "output_type": "stream",
     "text": [
      "What's your name? Andrew\n",
      "How old are you? 15\n"
     ]
    },
    {
     "name": "stdout",
     "output_type": "stream",
     "text": [
      "Meet Andrew! They are 15 years old!\n"
     ]
    }
   ],
   "source": [
    "name = input(\"What's your name?\")\n",
    "\n",
    "age = input(\"How old are you?\")\n",
    "\n",
    "print(\"Meet \" + name + \"! They are \" + age + \" years old!\")"
   ]
  },
  {
   "cell_type": "code",
   "execution_count": null,
   "id": "c83a3020-0d3e-43ef-87d8-5091636c8390",
   "metadata": {},
   "outputs": [],
   "source": []
  }
 ],
 "metadata": {
  "kernelspec": {
   "display_name": "Python 3 (ipykernel)",
   "language": "python",
   "name": "python3"
  },
  "language_info": {
   "codemirror_mode": {
    "name": "ipython",
    "version": 3
   },
   "file_extension": ".py",
   "mimetype": "text/x-python",
   "name": "python",
   "nbconvert_exporter": "python",
   "pygments_lexer": "ipython3",
   "version": "3.12.4"
  }
 },
 "nbformat": 4,
 "nbformat_minor": 5
}
